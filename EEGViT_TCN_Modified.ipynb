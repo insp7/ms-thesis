{
  "nbformat": 4,
  "nbformat_minor": 0,
  "metadata": {
    "colab": {
      "provenance": [],
      "toc_visible": true,
      "machine_shape": "hm",
      "gpuType": "A100"
    },
    "kernelspec": {
      "name": "python3",
      "display_name": "Python 3"
    },
    "language_info": {
      "name": "python"
    },
    "accelerator": "GPU"
  },
  "cells": [
    {
      "cell_type": "code",
      "source": [
        "!pip install pytorch-tcn # required"
      ],
      "metadata": {
        "colab": {
          "base_uri": "https://localhost:8080/"
        },
        "collapsed": true,
        "id": "tsKUXHpZFNP3",
        "outputId": "595cadae-9b5e-4d2d-b5a1-7a727ca67f1b"
      },
      "execution_count": null,
      "outputs": [
        {
          "output_type": "stream",
          "name": "stdout",
          "text": [
            "Collecting pytorch-tcn\n",
            "  Downloading pytorch_tcn-1.2.3-py3-none-any.whl.metadata (17 kB)\n",
            "Requirement already satisfied: torch in /usr/local/lib/python3.11/dist-packages (from pytorch-tcn) (2.6.0+cu124)\n",
            "Requirement already satisfied: numpy in /usr/local/lib/python3.11/dist-packages (from pytorch-tcn) (2.0.2)\n",
            "Requirement already satisfied: filelock in /usr/local/lib/python3.11/dist-packages (from torch->pytorch-tcn) (3.18.0)\n",
            "Requirement already satisfied: typing-extensions>=4.10.0 in /usr/local/lib/python3.11/dist-packages (from torch->pytorch-tcn) (4.13.2)\n",
            "Requirement already satisfied: networkx in /usr/local/lib/python3.11/dist-packages (from torch->pytorch-tcn) (3.4.2)\n",
            "Requirement already satisfied: jinja2 in /usr/local/lib/python3.11/dist-packages (from torch->pytorch-tcn) (3.1.6)\n",
            "Requirement already satisfied: fsspec in /usr/local/lib/python3.11/dist-packages (from torch->pytorch-tcn) (2025.3.2)\n",
            "Collecting nvidia-cuda-nvrtc-cu12==12.4.127 (from torch->pytorch-tcn)\n",
            "  Downloading nvidia_cuda_nvrtc_cu12-12.4.127-py3-none-manylinux2014_x86_64.whl.metadata (1.5 kB)\n",
            "Collecting nvidia-cuda-runtime-cu12==12.4.127 (from torch->pytorch-tcn)\n",
            "  Downloading nvidia_cuda_runtime_cu12-12.4.127-py3-none-manylinux2014_x86_64.whl.metadata (1.5 kB)\n",
            "Collecting nvidia-cuda-cupti-cu12==12.4.127 (from torch->pytorch-tcn)\n",
            "  Downloading nvidia_cuda_cupti_cu12-12.4.127-py3-none-manylinux2014_x86_64.whl.metadata (1.6 kB)\n",
            "Collecting nvidia-cudnn-cu12==9.1.0.70 (from torch->pytorch-tcn)\n",
            "  Downloading nvidia_cudnn_cu12-9.1.0.70-py3-none-manylinux2014_x86_64.whl.metadata (1.6 kB)\n",
            "Collecting nvidia-cublas-cu12==12.4.5.8 (from torch->pytorch-tcn)\n",
            "  Downloading nvidia_cublas_cu12-12.4.5.8-py3-none-manylinux2014_x86_64.whl.metadata (1.5 kB)\n",
            "Collecting nvidia-cufft-cu12==11.2.1.3 (from torch->pytorch-tcn)\n",
            "  Downloading nvidia_cufft_cu12-11.2.1.3-py3-none-manylinux2014_x86_64.whl.metadata (1.5 kB)\n",
            "Collecting nvidia-curand-cu12==10.3.5.147 (from torch->pytorch-tcn)\n",
            "  Downloading nvidia_curand_cu12-10.3.5.147-py3-none-manylinux2014_x86_64.whl.metadata (1.5 kB)\n",
            "Collecting nvidia-cusolver-cu12==11.6.1.9 (from torch->pytorch-tcn)\n",
            "  Downloading nvidia_cusolver_cu12-11.6.1.9-py3-none-manylinux2014_x86_64.whl.metadata (1.6 kB)\n",
            "Collecting nvidia-cusparse-cu12==12.3.1.170 (from torch->pytorch-tcn)\n",
            "  Downloading nvidia_cusparse_cu12-12.3.1.170-py3-none-manylinux2014_x86_64.whl.metadata (1.6 kB)\n",
            "Requirement already satisfied: nvidia-cusparselt-cu12==0.6.2 in /usr/local/lib/python3.11/dist-packages (from torch->pytorch-tcn) (0.6.2)\n",
            "Requirement already satisfied: nvidia-nccl-cu12==2.21.5 in /usr/local/lib/python3.11/dist-packages (from torch->pytorch-tcn) (2.21.5)\n",
            "Requirement already satisfied: nvidia-nvtx-cu12==12.4.127 in /usr/local/lib/python3.11/dist-packages (from torch->pytorch-tcn) (12.4.127)\n",
            "Collecting nvidia-nvjitlink-cu12==12.4.127 (from torch->pytorch-tcn)\n",
            "  Downloading nvidia_nvjitlink_cu12-12.4.127-py3-none-manylinux2014_x86_64.whl.metadata (1.5 kB)\n",
            "Requirement already satisfied: triton==3.2.0 in /usr/local/lib/python3.11/dist-packages (from torch->pytorch-tcn) (3.2.0)\n",
            "Requirement already satisfied: sympy==1.13.1 in /usr/local/lib/python3.11/dist-packages (from torch->pytorch-tcn) (1.13.1)\n",
            "Requirement already satisfied: mpmath<1.4,>=1.1.0 in /usr/local/lib/python3.11/dist-packages (from sympy==1.13.1->torch->pytorch-tcn) (1.3.0)\n",
            "Requirement already satisfied: MarkupSafe>=2.0 in /usr/local/lib/python3.11/dist-packages (from jinja2->torch->pytorch-tcn) (3.0.2)\n",
            "Downloading pytorch_tcn-1.2.3-py3-none-any.whl (18 kB)\n",
            "Downloading nvidia_cublas_cu12-12.4.5.8-py3-none-manylinux2014_x86_64.whl (363.4 MB)\n",
            "\u001b[2K   \u001b[90m━━━━━━━━━━━━━━━━━━━━━━━━━━━━━━━━━━━━━━━━\u001b[0m \u001b[32m363.4/363.4 MB\u001b[0m \u001b[31m3.0 MB/s\u001b[0m eta \u001b[36m0:00:00\u001b[0m\n",
            "\u001b[?25hDownloading nvidia_cuda_cupti_cu12-12.4.127-py3-none-manylinux2014_x86_64.whl (13.8 MB)\n",
            "\u001b[2K   \u001b[90m━━━━━━━━━━━━━━━━━━━━━━━━━━━━━━━━━━━━━━━━\u001b[0m \u001b[32m13.8/13.8 MB\u001b[0m \u001b[31m95.9 MB/s\u001b[0m eta \u001b[36m0:00:00\u001b[0m\n",
            "\u001b[?25hDownloading nvidia_cuda_nvrtc_cu12-12.4.127-py3-none-manylinux2014_x86_64.whl (24.6 MB)\n",
            "\u001b[2K   \u001b[90m━━━━━━━━━━━━━━━━━━━━━━━━━━━━━━━━━━━━━━━━\u001b[0m \u001b[32m24.6/24.6 MB\u001b[0m \u001b[31m80.2 MB/s\u001b[0m eta \u001b[36m0:00:00\u001b[0m\n",
            "\u001b[?25hDownloading nvidia_cuda_runtime_cu12-12.4.127-py3-none-manylinux2014_x86_64.whl (883 kB)\n",
            "\u001b[2K   \u001b[90m━━━━━━━━━━━━━━━━━━━━━━━━━━━━━━━━━━━━━━━━\u001b[0m \u001b[32m883.7/883.7 kB\u001b[0m \u001b[31m39.5 MB/s\u001b[0m eta \u001b[36m0:00:00\u001b[0m\n",
            "\u001b[?25hDownloading nvidia_cudnn_cu12-9.1.0.70-py3-none-manylinux2014_x86_64.whl (664.8 MB)\n",
            "\u001b[2K   \u001b[90m━━━━━━━━━━━━━━━━━━━━━━━━━━━━━━━━━━━━━━━━\u001b[0m \u001b[32m664.8/664.8 MB\u001b[0m \u001b[31m1.7 MB/s\u001b[0m eta \u001b[36m0:00:00\u001b[0m\n",
            "\u001b[?25hDownloading nvidia_cufft_cu12-11.2.1.3-py3-none-manylinux2014_x86_64.whl (211.5 MB)\n",
            "\u001b[2K   \u001b[90m━━━━━━━━━━━━━━━━━━━━━━━━━━━━━━━━━━━━━━━━\u001b[0m \u001b[32m211.5/211.5 MB\u001b[0m \u001b[31m12.0 MB/s\u001b[0m eta \u001b[36m0:00:00\u001b[0m\n",
            "\u001b[?25hDownloading nvidia_curand_cu12-10.3.5.147-py3-none-manylinux2014_x86_64.whl (56.3 MB)\n",
            "\u001b[2K   \u001b[90m━━━━━━━━━━━━━━━━━━━━━━━━━━━━━━━━━━━━━━━━\u001b[0m \u001b[32m56.3/56.3 MB\u001b[0m \u001b[31m41.8 MB/s\u001b[0m eta \u001b[36m0:00:00\u001b[0m\n",
            "\u001b[?25hDownloading nvidia_cusolver_cu12-11.6.1.9-py3-none-manylinux2014_x86_64.whl (127.9 MB)\n",
            "\u001b[2K   \u001b[90m━━━━━━━━━━━━━━━━━━━━━━━━━━━━━━━━━━━━━━━━\u001b[0m \u001b[32m127.9/127.9 MB\u001b[0m \u001b[31m18.1 MB/s\u001b[0m eta \u001b[36m0:00:00\u001b[0m\n",
            "\u001b[?25hDownloading nvidia_cusparse_cu12-12.3.1.170-py3-none-manylinux2014_x86_64.whl (207.5 MB)\n",
            "\u001b[2K   \u001b[90m━━━━━━━━━━━━━━━━━━━━━━━━━━━━━━━━━━━━━━━━\u001b[0m \u001b[32m207.5/207.5 MB\u001b[0m \u001b[31m7.1 MB/s\u001b[0m eta \u001b[36m0:00:00\u001b[0m\n",
            "\u001b[?25hDownloading nvidia_nvjitlink_cu12-12.4.127-py3-none-manylinux2014_x86_64.whl (21.1 MB)\n",
            "\u001b[2K   \u001b[90m━━━━━━━━━━━━━━━━━━━━━━━━━━━━━━━━━━━━━━━━\u001b[0m \u001b[32m21.1/21.1 MB\u001b[0m \u001b[31m67.2 MB/s\u001b[0m eta \u001b[36m0:00:00\u001b[0m\n",
            "\u001b[?25hInstalling collected packages: nvidia-nvjitlink-cu12, nvidia-curand-cu12, nvidia-cufft-cu12, nvidia-cuda-runtime-cu12, nvidia-cuda-nvrtc-cu12, nvidia-cuda-cupti-cu12, nvidia-cublas-cu12, nvidia-cusparse-cu12, nvidia-cudnn-cu12, nvidia-cusolver-cu12, pytorch-tcn\n",
            "  Attempting uninstall: nvidia-nvjitlink-cu12\n",
            "    Found existing installation: nvidia-nvjitlink-cu12 12.5.82\n",
            "    Uninstalling nvidia-nvjitlink-cu12-12.5.82:\n",
            "      Successfully uninstalled nvidia-nvjitlink-cu12-12.5.82\n",
            "  Attempting uninstall: nvidia-curand-cu12\n",
            "    Found existing installation: nvidia-curand-cu12 10.3.6.82\n",
            "    Uninstalling nvidia-curand-cu12-10.3.6.82:\n",
            "      Successfully uninstalled nvidia-curand-cu12-10.3.6.82\n",
            "  Attempting uninstall: nvidia-cufft-cu12\n",
            "    Found existing installation: nvidia-cufft-cu12 11.2.3.61\n",
            "    Uninstalling nvidia-cufft-cu12-11.2.3.61:\n",
            "      Successfully uninstalled nvidia-cufft-cu12-11.2.3.61\n",
            "  Attempting uninstall: nvidia-cuda-runtime-cu12\n",
            "    Found existing installation: nvidia-cuda-runtime-cu12 12.5.82\n",
            "    Uninstalling nvidia-cuda-runtime-cu12-12.5.82:\n",
            "      Successfully uninstalled nvidia-cuda-runtime-cu12-12.5.82\n",
            "  Attempting uninstall: nvidia-cuda-nvrtc-cu12\n",
            "    Found existing installation: nvidia-cuda-nvrtc-cu12 12.5.82\n",
            "    Uninstalling nvidia-cuda-nvrtc-cu12-12.5.82:\n",
            "      Successfully uninstalled nvidia-cuda-nvrtc-cu12-12.5.82\n",
            "  Attempting uninstall: nvidia-cuda-cupti-cu12\n",
            "    Found existing installation: nvidia-cuda-cupti-cu12 12.5.82\n",
            "    Uninstalling nvidia-cuda-cupti-cu12-12.5.82:\n",
            "      Successfully uninstalled nvidia-cuda-cupti-cu12-12.5.82\n",
            "  Attempting uninstall: nvidia-cublas-cu12\n",
            "    Found existing installation: nvidia-cublas-cu12 12.5.3.2\n",
            "    Uninstalling nvidia-cublas-cu12-12.5.3.2:\n",
            "      Successfully uninstalled nvidia-cublas-cu12-12.5.3.2\n",
            "  Attempting uninstall: nvidia-cusparse-cu12\n",
            "    Found existing installation: nvidia-cusparse-cu12 12.5.1.3\n",
            "    Uninstalling nvidia-cusparse-cu12-12.5.1.3:\n",
            "      Successfully uninstalled nvidia-cusparse-cu12-12.5.1.3\n",
            "  Attempting uninstall: nvidia-cudnn-cu12\n",
            "    Found existing installation: nvidia-cudnn-cu12 9.3.0.75\n",
            "    Uninstalling nvidia-cudnn-cu12-9.3.0.75:\n",
            "      Successfully uninstalled nvidia-cudnn-cu12-9.3.0.75\n",
            "  Attempting uninstall: nvidia-cusolver-cu12\n",
            "    Found existing installation: nvidia-cusolver-cu12 11.6.3.83\n",
            "    Uninstalling nvidia-cusolver-cu12-11.6.3.83:\n",
            "      Successfully uninstalled nvidia-cusolver-cu12-11.6.3.83\n",
            "Successfully installed nvidia-cublas-cu12-12.4.5.8 nvidia-cuda-cupti-cu12-12.4.127 nvidia-cuda-nvrtc-cu12-12.4.127 nvidia-cuda-runtime-cu12-12.4.127 nvidia-cudnn-cu12-9.1.0.70 nvidia-cufft-cu12-11.2.1.3 nvidia-curand-cu12-10.3.5.147 nvidia-cusolver-cu12-11.6.1.9 nvidia-cusparse-cu12-12.3.1.170 nvidia-nvjitlink-cu12-12.4.127 pytorch-tcn-1.2.3\n"
          ]
        }
      ]
    },
    {
      "cell_type": "code",
      "execution_count": null,
      "metadata": {
        "id": "InZjc_RaH0-3"
      },
      "outputs": [],
      "source": [
        "import torch\n",
        "import torch.nn as nn\n",
        "from torch.utils.data import DataLoader, Subset\n",
        "from tqdm import tqdm\n",
        "import numpy as np\n",
        "import math"
      ]
    },
    {
      "cell_type": "code",
      "source": [
        "seed_value = 42\n",
        "random.seed(seed_value)\n",
        "np.random.seed(seed_value)\n",
        "torch.manual_seed(seed_value)\n",
        "torch.cuda.manual_seed(seed_value)"
      ],
      "metadata": {
        "id": "M3zsnIxofKQO"
      },
      "execution_count": null,
      "outputs": []
    },
    {
      "cell_type": "markdown",
      "source": [
        "### Helper Functions"
      ],
      "metadata": {
        "id": "ki7k328TJE9S"
      }
    },
    {
      "cell_type": "code",
      "source": [
        "import math\n",
        "import numpy as np\n",
        "\n",
        "# From EEGEyeNet Benchmark paper to maintain the original split ratio and values as per participant ID\n",
        "def split(ids, train, val, test):\n",
        "    # proportions of train, val, test\n",
        "    assert (train+val+test == 1)\n",
        "    IDs = np.unique(ids)\n",
        "    num_ids = len(IDs)\n",
        "\n",
        "    # priority given to the test/val sets\n",
        "    test_split = math.ceil(test * num_ids)\n",
        "    val_split = math.ceil(val * num_ids)\n",
        "    train_split = num_ids - val_split - test_split\n",
        "\n",
        "    train = np.where(np.isin(ids, IDs[:train_split]))[0]\n",
        "    val = np.where(np.isin(ids, IDs[train_split:train_split+val_split]))[0]\n",
        "    test = np.where(np.isin(ids, IDs[train_split+val_split:]))[0]\n",
        "\n",
        "    return train, val, test"
      ],
      "metadata": {
        "id": "HvFTOZ7WJEpn"
      },
      "execution_count": null,
      "outputs": []
    },
    {
      "cell_type": "markdown",
      "source": [
        "### Connect to Drive"
      ],
      "metadata": {
        "id": "O9EDs2bAI2Wb"
      }
    },
    {
      "cell_type": "code",
      "source": [
        "import os\n",
        "from google.colab import drive\n",
        "\n",
        "# Step 1: Mount Google Drive\n",
        "drive.mount('/content/drive')\n",
        "\n",
        "# Step 2: Define file path\n",
        "file_path = \"/content/drive/MyDrive/datasets/Position_task_with_dots_synchronised_min.npz\"\n",
        "\n",
        "# Step 3: Create the folder if it doesn't exist\n",
        "os.makedirs(os.path.dirname(file_path), exist_ok=True)\n",
        "\n",
        "# Step 4: Check if file exists, if not, download it\n",
        "if not os.path.exists(file_path):\n",
        "    print(\"File not found. Downloading...\")\n",
        "    !wget -O \"/content/drive/MyDrive/datasets/Position_task_with_dots_synchronised_min.npz\" \"https://osf.io/download/ge87t/\"\n",
        "else:\n",
        "    print(\"File already exists at:\", file_path)"
      ],
      "metadata": {
        "colab": {
          "base_uri": "https://localhost:8080/"
        },
        "id": "8VQq3oqeI5NX",
        "outputId": "43dab3e6-b7cd-4ba4-cb29-c3f33b0b9dda"
      },
      "execution_count": null,
      "outputs": [
        {
          "output_type": "stream",
          "name": "stdout",
          "text": [
            "Mounted at /content/drive\n",
            "File already exists at: /content/drive/MyDrive/datasets/Position_task_with_dots_synchronised_min.npz\n"
          ]
        }
      ]
    },
    {
      "cell_type": "markdown",
      "source": [
        "### Dataset Loader"
      ],
      "metadata": {
        "id": "c-J20X_vJRIh"
      }
    },
    {
      "cell_type": "code",
      "source": [
        "from torch.utils.data import Dataset\n",
        "import torch\n",
        "import numpy as np\n",
        "\n",
        "# From EEGViT Repo: https://github.com/ruiqiRichard/EEGViT\n",
        "class EEGEyeNetDataset(Dataset):\n",
        "        def __init__(self, data_file, transpose=True):\n",
        "                self.data_file = data_file\n",
        "                print('loading data...')\n",
        "                with np.load(self.data_file) as f:  # Load the data array\n",
        "                        self.trainX = f['EEG']\n",
        "                        self.trainY = f['labels']\n",
        "\n",
        "                # Implemented this outlier removal strategy as suggested by this study:\n",
        "                # Wu, J., Dou, J., & Utoft, S. (2025).\n",
        "                # Refining Human-Data Interaction: Advanced Techniques for EEGEyeNet Dataset Precision.\n",
        "                # In International Conference on Human-Computer Interaction (pp. 407-419).\n",
        "                # Springer, Cham.\n",
        "                # Filter data where y[:,1] is between 0 and 800 and y[:,2] is between 0 and 600 -- From Outlier removal paper\n",
        "                valid_indices = (self.trainY[:, 1] >= 0) & (self.trainY[:, 1] <= 800) & \\\n",
        "                                        (self.trainY[:, 2] >= 0) & (self.trainY[:, 2] <= 600)\n",
        "                self.trainX = self.trainX[valid_indices]\n",
        "                self.trainY = self.trainY[valid_indices]\n",
        "                if transpose:\n",
        "                        self.trainX = np.transpose(self.trainX, (0, 2, 1))[:, np.newaxis, :, :]\n",
        "                print(self.trainY)\n",
        "\n",
        "        def __getitem__(self, index):\n",
        "                # Read a single sample of data from the data array\n",
        "                X = torch.from_numpy(self.trainX[index]).float()\n",
        "                y = torch.from_numpy(self.trainY[index,1:3]).float()\n",
        "                # Return the tensor data\n",
        "                return (X,y,index)\n",
        "\n",
        "        def __len__(self):\n",
        "                # Compute the number of samples in the data array\n",
        "                return len(self.trainX)"
      ],
      "metadata": {
        "id": "9r6POjh6JSyd"
      },
      "execution_count": null,
      "outputs": []
    },
    {
      "cell_type": "markdown",
      "source": [
        "### Model"
      ],
      "metadata": {
        "id": "S_o7LbZqIluZ"
      }
    },
    {
      "cell_type": "code",
      "source": [
        "import torch\n",
        "from torch import nn\n",
        "from pytorch_tcn import TCN\n",
        "import transformers\n",
        "from transformers import ViTModel\n",
        "\n",
        "# Kernal size Modifications motivated by this study:\n",
        "# Qiu, C., Liang, B., & Key, M. L. (2024, June).\n",
        "class EEGVIT_TCN_KernalSizeModified(nn.Module):\n",
        "    def __init__(self):\n",
        "        super().__init__()\n",
        "\n",
        "        # TCN layer\n",
        "        self.tcn = TCN(\n",
        "            num_inputs=129,\n",
        "            num_channels=[64, 128, 256],  # for three layers\n",
        "            kernel_size=3,\n",
        "            dropout=0.75, # Dropout modifications 70-75% provide the best results\n",
        "            causal=True,\n",
        "            use_norm='weight_norm',\n",
        "            activation='relu',\n",
        "            kernel_initializer='xavier_uniform'\n",
        "        )\n",
        "\n",
        "        # Convolutional layers with batch normalization\n",
        "        # Kernal Size Modifications\n",
        "        self.conv1 = torch.nn.Conv2d(1, 256, kernel_size=(1, 16), stride=(1, 16), padding=(0,6)) # Tried Kernelsize & Stride: 1x16, 1x8, 1x4 BEST: 1x8\n",
        "        self.bn1 = nn.BatchNorm2d(256)\n",
        "        self.conv2 = torch.nn.Conv2d(256, 768, kernel_size=(256, 1), stride=(256, 1), padding=(0,0))\n",
        "        self.bn2 = nn.BatchNorm2d(768)\n",
        "\n",
        "        self.relu = nn.ReLU()\n",
        "\n",
        "        # ViT configuration\n",
        "        model_name = \"google/vit-base-patch16-224\"\n",
        "        config = transformers.ViTConfig.from_pretrained(model_name)\n",
        "        config.update({'num_channels': 768, 'image_size': (1, 32), 'patch_size': (1, 1)}) ## Tried image_size: 1x32, 1x64, 1x128 BEST: 1x64\n",
        "\n",
        "        model = transformers.ViTForImageClassification.from_pretrained(model_name, config=config, ignore_mismatched_sizes=True)\n",
        "        model.vit.embeddings.patch_embeddings.projection = torch.nn.Conv2d(768, 768, kernel_size=(1, 1), stride=(1, 1), padding=(0,0))\n",
        "        model.classifier = torch.nn.Sequential(\n",
        "            torch.nn.Linear(768, 1000, bias=True),\n",
        "            torch.nn.Dropout(p=0.1),\n",
        "            torch.nn.Linear(1000, 2, bias=True)\n",
        "        )\n",
        "        self.ViT = model\n",
        "\n",
        "    def forward(self, x):\n",
        "        x = self.tcn(x.squeeze(1))  # Adjust for time dimension\n",
        "\n",
        "        # Reshape and apply convolutions and batch normalization\n",
        "        x = x.view(x.size(0), 1, x.size(1), x.size(2))\n",
        "\n",
        "        x = self.conv1(x)\n",
        "        x = self.relu(x)\n",
        "\n",
        "        x = self.conv2(x)\n",
        "        x = self.relu(x)\n",
        "\n",
        "        # Pass through ViT\n",
        "        x = self.ViT(x).logits\n",
        "        return x"
      ],
      "metadata": {
        "id": "NXFjHXelIiI7"
      },
      "execution_count": null,
      "outputs": []
    },
    {
      "cell_type": "markdown",
      "source": [
        "### Config"
      ],
      "metadata": {
        "id": "xTYsW-RIIoTy"
      }
    },
    {
      "cell_type": "code",
      "source": [
        "model = EEGVIT_TCN_KernalSizeModified()\n",
        "model_name = model.__class__.__name__  # Get class name of the model, e.g., \"EEGVIT_TCN\"\n",
        "EEGEyeNet = EEGEyeNetDataset(file_path)\n",
        "batch_size = 64\n",
        "n_epoch = 15\n",
        "learning_rate = 1e-4\n",
        "\n",
        "criterion = nn.MSELoss()\n",
        "\n",
        "optimizer = torch.optim.Adam(model.parameters(), lr=learning_rate)\n",
        "scheduler = torch.optim.lr_scheduler.StepLR(optimizer, step_size=6, gamma=0.1)"
      ],
      "metadata": {
        "colab": {
          "base_uri": "https://localhost:8080/"
        },
        "id": "EgUNTYyKIbx6",
        "outputId": "0cd2ec1b-7c32-4520-a4fd-dfadaedcc563"
      },
      "execution_count": null,
      "outputs": [
        {
          "output_type": "stream",
          "name": "stderr",
          "text": [
            "Some weights of ViTForImageClassification were not initialized from the model checkpoint at google/vit-base-patch16-224 and are newly initialized because the shapes did not match:\n",
            "- vit.embeddings.patch_embeddings.projection.weight: found shape torch.Size([768, 3, 16, 16]) in the checkpoint and torch.Size([768, 768, 1, 1]) in the model instantiated\n",
            "- vit.embeddings.position_embeddings: found shape torch.Size([1, 197, 768]) in the checkpoint and torch.Size([1, 33, 768]) in the model instantiated\n",
            "You should probably TRAIN this model on a down-stream task to be able to use it for predictions and inference.\n"
          ]
        }
      ]
    },
    {
      "cell_type": "code",
      "source": [
        "import sys\n",
        "import json\n",
        "\n",
        "def train(model, optimizer, scheduler = None):\n",
        "    torch.cuda.empty_cache()\n",
        "    train_indices, val_indices, test_indices = split(EEGEyeNet.trainY[:,0],0.7,0.15,0.15)  # indices for the training set\n",
        "    print('create dataloader...')\n",
        "    criterion = nn.MSELoss()\n",
        "\n",
        "    train = Subset(EEGEyeNet,indices=train_indices)\n",
        "    val = Subset(EEGEyeNet,indices=val_indices)\n",
        "    test = Subset(EEGEyeNet,indices=test_indices)\n",
        "\n",
        "    train_loader = DataLoader(train, batch_size=batch_size)\n",
        "    val_loader = DataLoader(val, batch_size=batch_size)\n",
        "    test_loader = DataLoader(test, batch_size=batch_size)\n",
        "\n",
        "    if torch.cuda.is_available():\n",
        "        gpu_id = 0  # Change this to the desired GPU ID if you have multiple GPUs\n",
        "        torch.cuda.set_device(gpu_id)\n",
        "        device = torch.device(f\"cuda:{gpu_id}\")\n",
        "    else:\n",
        "        device = torch.device(\"cpu\")\n",
        "    if torch.cuda.device_count() > 1:\n",
        "        model = nn.DataParallel(model)  # Wrap the model with DataParallel\n",
        "\n",
        "    model = model.to(device)\n",
        "    criterion = criterion.to(device)\n",
        "\n",
        "    # Initialize lists to store losses\n",
        "    train_losses = []\n",
        "    val_losses = []\n",
        "    test_losses = []\n",
        "    train_losses_rmse = []\n",
        "    val_losses_rmse = []\n",
        "    test_losses_rmse = []\n",
        "\n",
        "    print('training...')\n",
        "    # Train the model\n",
        "    for epoch in range(n_epoch):\n",
        "        model.train()\n",
        "        epoch_train_loss = 0.0\n",
        "\n",
        "        for i, (inputs, targets, index) in tqdm(enumerate(train_loader)):\n",
        "            # Move the inputs and targets to the GPU (if available)\n",
        "            inputs = inputs.to(device)\n",
        "            targets = targets.to(device)\n",
        "\n",
        "            # Compute the outputs and loss for the current batch\n",
        "            optimizer.zero_grad()\n",
        "            outputs = model(inputs)\n",
        "            loss = criterion(outputs.squeeze(), targets.squeeze())\n",
        "\n",
        "            # Compute the gradients and update the parameters\n",
        "            loss.backward()\n",
        "            optimizer.step()\n",
        "            epoch_train_loss += loss.item()\n",
        "\n",
        "        epoch_train_loss /= len(train_loader)\n",
        "        epoch_train_loss_rmse = np.sqrt(epoch_train_loss) / 2\n",
        "        train_losses.append(epoch_train_loss)\n",
        "        train_losses_rmse.append(epoch_train_loss_rmse)\n",
        "        print(f\"Epoch {epoch}, Train Loss: {epoch_train_loss}, RMSE Loss: {epoch_train_loss_rmse}\")\n",
        "\n",
        "        # Evaluate the model on the validation set\n",
        "        model.eval()\n",
        "        with torch.no_grad():\n",
        "            val_loss = 0.0\n",
        "            for inputs, targets, index in val_loader:\n",
        "                # Move the inputs and targets to the GPU (if available)\n",
        "                inputs = inputs.to(device)\n",
        "                targets = targets.to(device)\n",
        "\n",
        "                # Compute the outputs and loss for the current batch\n",
        "                outputs = model(inputs)\n",
        "                # print(outputs)\n",
        "                loss = criterion(outputs.squeeze(), targets.squeeze())\n",
        "                val_loss += loss.item()\n",
        "\n",
        "\n",
        "            val_loss /= len(val_loader)\n",
        "            val_loss_rmse = np.sqrt(val_loss) / 2\n",
        "            val_losses.append(val_loss)\n",
        "            val_losses_rmse.append(val_loss_rmse)\n",
        "            print(f\"Epoch {epoch}, Val Loss: {val_loss}, RMSE Loss: {val_loss_rmse}\")\n",
        "\n",
        "        with torch.no_grad():\n",
        "            val_loss = 0.0\n",
        "            for inputs, targets, index in test_loader:\n",
        "                # Move the inputs and targets to the GPU (if available)\n",
        "                inputs = inputs.to(device)\n",
        "                targets = targets.to(device)\n",
        "\n",
        "                # Compute the outputs and loss for the current batch\n",
        "                outputs = model(inputs)\n",
        "\n",
        "                loss = criterion(outputs.squeeze(), targets.squeeze())\n",
        "                val_loss += loss.item()\n",
        "\n",
        "            val_loss /= len(test_loader)\n",
        "            val_loss_rmse = np.sqrt(val_loss) / 2\n",
        "            test_losses.append(val_loss)\n",
        "            test_losses_rmse.append(val_loss_rmse)\n",
        "\n",
        "            print(f\"Epoch {epoch}, test Loss: {val_loss}, RMSE Loss: {val_loss_rmse}\")\n",
        "\n",
        "        if scheduler is not None:\n",
        "            scheduler.step()\n",
        "\n",
        "    # Combine them into a dictionary\n",
        "    loss_data = {\n",
        "        \"train_losses\": train_losses,\n",
        "        \"val_losses\": val_losses,\n",
        "        \"test_losses\": test_losses,\n",
        "        \"train_losses_rmse\": train_losses_rmse,\n",
        "        \"val_losses_rmse\": val_losses_rmse,\n",
        "        \"test_losses_rmse\": test_losses_rmse\n",
        "    }\n",
        "\n",
        "    # Save to a JSON file\n",
        "    losses_filename = f\"/content/drive/MyDrive/trained_models/losses_{model_name}.json\"\n",
        "    with open(losses_filename, \"w\") as f:\n",
        "        json.dump(loss_data, f, indent=4)\n",
        "    return loss_data"
      ],
      "metadata": {
        "id": "SrvrfQhmIfmR"
      },
      "execution_count": null,
      "outputs": []
    },
    {
      "cell_type": "markdown",
      "source": [
        "### Train 5 Times & Plot Statistics"
      ],
      "metadata": {
        "id": "6QHS47HQF3a5"
      }
    },
    {
      "cell_type": "code",
      "source": [
        "import time\n",
        "import numpy as np\n",
        "import matplotlib.pyplot as plt\n",
        "\n",
        "total_start_time = time.time()\n",
        "individual_times = []\n",
        "best_val_losses = []\n",
        "best_test_losses = []\n",
        "all_loss_data = []\n",
        "\n",
        "if torch.cuda.is_available():\n",
        "    gpu_id = 0  # Change this to the desired GPU ID if you have multiple GPUs\n",
        "    torch.cuda.set_device(gpu_id)\n",
        "    device = torch.device(f\"cuda:{gpu_id}\")\n",
        "else:\n",
        "    device = torch.device(\"cpu\")\n",
        "if torch.cuda.device_count() > 1:\n",
        "    model = nn.DataParallel(model)  # Wrap the model with DataParallel\n",
        "\n",
        "for i in range(5):\n",
        "    print(f\"\\n====== Training iteration {i + 1} ======\")\n",
        "    start_time = time.time()\n",
        "\n",
        "    # Reinitialize model, optimizer, scheduler\n",
        "    model = EEGVIT_TCN_KernalSizeModified().to(device)  # Replace with your actual model class\n",
        "    optimizer = torch.optim.Adam(model.parameters(), lr=learning_rate)\n",
        "    scheduler = torch.optim.lr_scheduler.StepLR(optimizer, step_size=6, gamma=0.1)\n",
        "\n",
        "    # Train\n",
        "    loss_data = train(model, optimizer=optimizer, scheduler=scheduler)\n",
        "\n",
        "    end_time = time.time()\n",
        "    iteration_time = end_time - start_time\n",
        "    individual_times.append(iteration_time)\n",
        "\n",
        "    # Get best val and test losses\n",
        "    best_val = min(loss_data[\"val_losses\"])\n",
        "    best_test = min(loss_data[\"test_losses\"])\n",
        "    best_val_losses.append(best_val)\n",
        "    best_test_losses.append(best_test)\n",
        "    all_loss_data.append(loss_data)\n",
        "\n",
        "    print(f\"Iteration {i + 1} took {iteration_time:.2f} seconds.\")\n",
        "    print(f\"  Best validation loss: {best_val:.4f}\")\n",
        "    print(f\"  Best test loss: {best_test:.4f}\")\n",
        "\n",
        "    print(f\"Train Losses: {loss_data['train_losses']}\")\n",
        "    print(f\"Val Losses:   {loss_data['val_losses']}\")\n",
        "    print(f\"Test Losses:  {loss_data['test_losses']}\")\n",
        "\n",
        "total_elapsed_time = time.time() - total_start_time\n",
        "print(f\"\\nTotal training time for 5 runs: {total_elapsed_time:.2f} seconds.\")\n",
        "\n",
        "# Summary\n",
        "print(\"\\n====== Summary of best losses per run ======\")\n",
        "for i in range(5):\n",
        "    print(f\"Run {i+1}: Val Loss = {best_val_losses[i]:.4f}, Test Loss = {best_test_losses[i]:.4f}\")\n",
        "\n",
        "# Stats\n",
        "val_mean = np.mean(best_val_losses)\n",
        "val_std = np.std(best_val_losses)\n",
        "\n",
        "print(f\"\\nAverage best validation loss: {val_mean:.4f}\")\n",
        "print(f\"Standard deviation of validation loss: {val_std:.4f}\")"
      ],
      "metadata": {
        "colab": {
          "base_uri": "https://localhost:8080/"
        },
        "id": "OWDzzOus_-Ye",
        "outputId": "11b75286-5a3f-4b81-a2f9-ccbe8387fd06"
      },
      "execution_count": null,
      "outputs": [
        {
          "output_type": "stream",
          "name": "stdout",
          "text": [
            "\n",
            "====== Training iteration 1 ======\n"
          ]
        },
        {
          "output_type": "stream",
          "name": "stderr",
          "text": [
            "Some weights of ViTForImageClassification were not initialized from the model checkpoint at google/vit-base-patch16-224 and are newly initialized because the shapes did not match:\n",
            "- vit.embeddings.patch_embeddings.projection.weight: found shape torch.Size([768, 3, 16, 16]) in the checkpoint and torch.Size([768, 768, 1, 1]) in the model instantiated\n",
            "- vit.embeddings.position_embeddings: found shape torch.Size([1, 197, 768]) in the checkpoint and torch.Size([1, 33, 768]) in the model instantiated\n",
            "You should probably TRAIN this model on a down-stream task to be able to use it for predictions and inference.\n"
          ]
        },
        {
          "output_type": "stream",
          "name": "stdout",
          "text": [
            "create dataloader...\n",
            "training...\n"
          ]
        },
        {
          "output_type": "stream",
          "name": "stderr",
          "text": [
            "236it [00:28,  8.33it/s]\n"
          ]
        },
        {
          "output_type": "stream",
          "name": "stdout",
          "text": [
            "Epoch 0, Train Loss: 74421.11604541843, RMSE Loss: 136.40116939144843\n",
            "Epoch 0, Val Loss: 27277.027264030614, RMSE Loss: 82.57879156301364\n",
            "Epoch 0, test Loss: 27125.54243259804, RMSE Loss: 82.34916883702901\n"
          ]
        },
        {
          "output_type": "stream",
          "name": "stderr",
          "text": [
            "236it [00:28,  8.36it/s]\n"
          ]
        },
        {
          "output_type": "stream",
          "name": "stdout",
          "text": [
            "Epoch 1, Train Loss: 24518.664170087395, RMSE Loss: 78.29218378945531\n",
            "Epoch 1, Val Loss: 22729.079400510203, RMSE Loss: 75.38083211352573\n",
            "Epoch 1, test Loss: 21783.95534620098, RMSE Loss: 73.79694327375792\n"
          ]
        },
        {
          "output_type": "stream",
          "name": "stderr",
          "text": [
            "236it [00:28,  8.35it/s]\n"
          ]
        },
        {
          "output_type": "stream",
          "name": "stdout",
          "text": [
            "Epoch 2, Train Loss: 21205.88961119571, RMSE Loss: 72.81121069450039\n",
            "Epoch 2, Val Loss: 18753.503786670917, RMSE Loss: 68.47171639931139\n",
            "Epoch 2, test Loss: 16815.839116115196, RMSE Loss: 64.83795014517963\n"
          ]
        },
        {
          "output_type": "stream",
          "name": "stderr",
          "text": [
            "236it [00:28,  8.28it/s]\n"
          ]
        },
        {
          "output_type": "stream",
          "name": "stdout",
          "text": [
            "Epoch 3, Train Loss: 16635.06984904661, RMSE Loss: 64.48850643534593\n",
            "Epoch 3, Val Loss: 16130.334303252552, RMSE Loss: 63.502626526885784\n",
            "Epoch 3, test Loss: 12947.975471047794, RMSE Loss: 56.89458557509624\n"
          ]
        },
        {
          "output_type": "stream",
          "name": "stderr",
          "text": [
            "236it [00:28,  8.35it/s]\n"
          ]
        },
        {
          "output_type": "stream",
          "name": "stdout",
          "text": [
            "Epoch 4, Train Loss: 14784.898867849577, RMSE Loss: 60.79658474752011\n",
            "Epoch 4, Val Loss: 16660.517159598214, RMSE Loss: 64.5378128688876\n",
            "Epoch 4, test Loss: 12977.718692555147, RMSE Loss: 56.959895304843975\n"
          ]
        },
        {
          "output_type": "stream",
          "name": "stderr",
          "text": [
            "236it [00:28,  8.35it/s]\n"
          ]
        },
        {
          "output_type": "stream",
          "name": "stdout",
          "text": [
            "Epoch 5, Train Loss: 14067.57862776417, RMSE Loss: 59.30341184907528\n",
            "Epoch 5, Val Loss: 16219.229073660714, RMSE Loss: 63.67736857326297\n",
            "Epoch 5, test Loss: 12388.108992034313, RMSE Loss: 55.65094112419464\n"
          ]
        },
        {
          "output_type": "stream",
          "name": "stderr",
          "text": [
            "236it [00:28,  8.35it/s]\n"
          ]
        },
        {
          "output_type": "stream",
          "name": "stdout",
          "text": [
            "Epoch 6, Train Loss: 13137.667300466765, RMSE Loss: 57.30983183640213\n",
            "Epoch 6, Val Loss: 15801.54282924107, RMSE Loss: 62.85209389758043\n",
            "Epoch 6, test Loss: 11756.236213235294, RMSE Loss: 54.21308931714576\n"
          ]
        },
        {
          "output_type": "stream",
          "name": "stderr",
          "text": [
            "236it [00:28,  8.31it/s]\n"
          ]
        },
        {
          "output_type": "stream",
          "name": "stdout",
          "text": [
            "Epoch 7, Train Loss: 12795.147367833024, RMSE Loss: 56.557818574961466\n",
            "Epoch 7, Val Loss: 15799.173867984693, RMSE Loss: 62.84738234004797\n",
            "Epoch 7, test Loss: 11694.322897518383, RMSE Loss: 54.07014633214521\n"
          ]
        },
        {
          "output_type": "stream",
          "name": "stderr",
          "text": [
            "236it [00:28,  8.29it/s]\n"
          ]
        },
        {
          "output_type": "stream",
          "name": "stdout",
          "text": [
            "Epoch 8, Train Loss: 12598.596965207891, RMSE Loss: 56.12173590777439\n",
            "Epoch 8, Val Loss: 15780.109952965562, RMSE Loss: 62.8094538126339\n",
            "Epoch 8, test Loss: 11669.469649969362, RMSE Loss: 54.01265974280789\n"
          ]
        },
        {
          "output_type": "stream",
          "name": "stderr",
          "text": [
            "236it [00:28,  8.27it/s]\n"
          ]
        },
        {
          "output_type": "stream",
          "name": "stdout",
          "text": [
            "Epoch 9, Train Loss: 12427.783995547537, RMSE Loss: 55.73998563766306\n",
            "Epoch 9, Val Loss: 15767.174924266581, RMSE Loss: 62.78370593606788\n",
            "Epoch 9, test Loss: 11584.379375382965, RMSE Loss: 53.815377392021894\n"
          ]
        },
        {
          "output_type": "stream",
          "name": "stderr",
          "text": [
            "236it [00:28,  8.36it/s]\n"
          ]
        },
        {
          "output_type": "stream",
          "name": "stdout",
          "text": [
            "Epoch 10, Train Loss: 12288.467732057734, RMSE Loss: 55.426680696343645\n",
            "Epoch 10, Val Loss: 15671.299246651786, RMSE Loss: 62.592529998898\n",
            "Epoch 10, test Loss: 11486.621074601715, RMSE Loss: 53.58782761645063\n"
          ]
        },
        {
          "output_type": "stream",
          "name": "stderr",
          "text": [
            "236it [00:28,  8.33it/s]\n"
          ]
        },
        {
          "output_type": "stream",
          "name": "stdout",
          "text": [
            "Epoch 11, Train Loss: 12133.532634153204, RMSE Loss: 55.07615780479155\n",
            "Epoch 11, Val Loss: 15620.952845982143, RMSE Loss: 62.49190516775381\n",
            "Epoch 11, test Loss: 11429.946920955883, RMSE Loss: 53.45546492398107\n"
          ]
        },
        {
          "output_type": "stream",
          "name": "stderr",
          "text": [
            "236it [00:28,  8.36it/s]\n"
          ]
        },
        {
          "output_type": "stream",
          "name": "stdout",
          "text": [
            "Epoch 12, Train Loss: 12056.567076602225, RMSE Loss: 54.90120007022211\n",
            "Epoch 12, Val Loss: 14795.44407684949, RMSE Loss: 60.81826221795862\n",
            "Epoch 12, test Loss: 10601.501455269608, RMSE Loss: 51.4817964315291\n"
          ]
        },
        {
          "output_type": "stream",
          "name": "stderr",
          "text": [
            "236it [00:28,  8.38it/s]\n"
          ]
        },
        {
          "output_type": "stream",
          "name": "stdout",
          "text": [
            "Epoch 13, Train Loss: 11869.18277339612, RMSE Loss: 54.472889526341724\n",
            "Epoch 13, Val Loss: 14710.663763552297, RMSE Loss: 60.643762588481216\n",
            "Epoch 13, test Loss: 10493.377776501226, RMSE Loss: 51.21859471056685\n"
          ]
        },
        {
          "output_type": "stream",
          "name": "stderr",
          "text": [
            "236it [00:28,  8.37it/s]\n"
          ]
        },
        {
          "output_type": "stream",
          "name": "stdout",
          "text": [
            "Epoch 14, Train Loss: 11830.069675251589, RMSE Loss: 54.383061874198454\n",
            "Epoch 14, Val Loss: 14717.220513791453, RMSE Loss: 60.657275972861356\n",
            "Epoch 14, test Loss: 10488.81201171875, RMSE Loss: 51.20745065837283\n",
            "Iteration 1 took 495.14 seconds.\n",
            "  Best validation loss: 14710.6638\n",
            "  Best test loss: 10488.8120\n",
            "Train Losses: [74421.11604541843, 24518.664170087395, 21205.88961119571, 16635.06984904661, 14784.898867849577, 14067.57862776417, 13137.667300466765, 12795.147367833024, 12598.596965207891, 12427.783995547537, 12288.467732057734, 12133.532634153204, 12056.567076602225, 11869.18277339612, 11830.069675251589]\n",
            "Val Losses:   [27277.027264030614, 22729.079400510203, 18753.503786670917, 16130.334303252552, 16660.517159598214, 16219.229073660714, 15801.54282924107, 15799.173867984693, 15780.109952965562, 15767.174924266581, 15671.299246651786, 15620.952845982143, 14795.44407684949, 14710.663763552297, 14717.220513791453]\n",
            "Test Losses:  [27125.54243259804, 21783.95534620098, 16815.839116115196, 12947.975471047794, 12977.718692555147, 12388.108992034313, 11756.236213235294, 11694.322897518383, 11669.469649969362, 11584.379375382965, 11486.621074601715, 11429.946920955883, 10601.501455269608, 10493.377776501226, 10488.81201171875]\n",
            "\n",
            "====== Training iteration 2 ======\n"
          ]
        },
        {
          "output_type": "stream",
          "name": "stderr",
          "text": [
            "Some weights of ViTForImageClassification were not initialized from the model checkpoint at google/vit-base-patch16-224 and are newly initialized because the shapes did not match:\n",
            "- vit.embeddings.patch_embeddings.projection.weight: found shape torch.Size([768, 3, 16, 16]) in the checkpoint and torch.Size([768, 768, 1, 1]) in the model instantiated\n",
            "- vit.embeddings.position_embeddings: found shape torch.Size([1, 197, 768]) in the checkpoint and torch.Size([1, 33, 768]) in the model instantiated\n",
            "You should probably TRAIN this model on a down-stream task to be able to use it for predictions and inference.\n"
          ]
        },
        {
          "output_type": "stream",
          "name": "stdout",
          "text": [
            "create dataloader...\n",
            "training...\n"
          ]
        },
        {
          "output_type": "stream",
          "name": "stderr",
          "text": [
            "236it [00:28,  8.37it/s]\n"
          ]
        },
        {
          "output_type": "stream",
          "name": "stdout",
          "text": [
            "Epoch 0, Train Loss: 74196.90316306938, RMSE Loss: 136.19554247759854\n",
            "Epoch 0, Val Loss: 26556.891382334183, RMSE Loss: 81.48142638407569\n",
            "Epoch 0, test Loss: 26084.57456341912, RMSE Loss: 80.75359831521305\n"
          ]
        },
        {
          "output_type": "stream",
          "name": "stderr",
          "text": [
            "236it [00:28,  8.30it/s]\n"
          ]
        },
        {
          "output_type": "stream",
          "name": "stdout",
          "text": [
            "Epoch 1, Train Loss: 24667.37995729608, RMSE Loss: 78.529261994011\n",
            "Epoch 1, Val Loss: 23054.554528061224, RMSE Loss: 75.91863165268\n",
            "Epoch 1, test Loss: 21893.774777879902, RMSE Loss: 73.98272564909985\n"
          ]
        },
        {
          "output_type": "stream",
          "name": "stderr",
          "text": [
            "236it [00:28,  8.37it/s]\n"
          ]
        },
        {
          "output_type": "stream",
          "name": "stdout",
          "text": [
            "Epoch 2, Train Loss: 20753.99254750397, RMSE Loss: 72.03123028850744\n",
            "Epoch 2, Val Loss: 18493.626355229593, RMSE Loss: 67.99563654240909\n",
            "Epoch 2, test Loss: 16272.186982996323, RMSE Loss: 63.781241331202395\n"
          ]
        },
        {
          "output_type": "stream",
          "name": "stderr",
          "text": [
            "236it [00:28,  8.37it/s]\n"
          ]
        },
        {
          "output_type": "stream",
          "name": "stdout",
          "text": [
            "Epoch 3, Train Loss: 16264.941567631091, RMSE Loss: 63.7670400121236\n",
            "Epoch 3, Val Loss: 16765.075374681124, RMSE Loss: 64.74000960511421\n",
            "Epoch 3, test Loss: 13638.901865042892, RMSE Loss: 58.3928545822237\n"
          ]
        },
        {
          "output_type": "stream",
          "name": "stderr",
          "text": [
            "236it [00:28,  8.30it/s]\n"
          ]
        },
        {
          "output_type": "stream",
          "name": "stdout",
          "text": [
            "Epoch 4, Train Loss: 14693.987863314354, RMSE Loss: 60.60938018020469\n",
            "Epoch 4, Val Loss: 16623.07912149235, RMSE Loss: 64.46526025987242\n",
            "Epoch 4, test Loss: 12956.553232230392, RMSE Loss: 56.91342818753407\n"
          ]
        },
        {
          "output_type": "stream",
          "name": "stderr",
          "text": [
            "236it [00:28,  8.38it/s]\n"
          ]
        },
        {
          "output_type": "stream",
          "name": "stdout",
          "text": [
            "Epoch 5, Train Loss: 14001.08385816671, RMSE Loss: 59.16308785502729\n",
            "Epoch 5, Val Loss: 16206.95424107143, RMSE Loss: 63.65326826069387\n",
            "Epoch 5, test Loss: 12302.981885723038, RMSE Loss: 55.45940381423839\n"
          ]
        },
        {
          "output_type": "stream",
          "name": "stderr",
          "text": [
            "236it [00:28,  8.37it/s]\n"
          ]
        },
        {
          "output_type": "stream",
          "name": "stdout",
          "text": [
            "Epoch 6, Train Loss: 13056.110136387711, RMSE Loss: 57.13166839938186\n",
            "Epoch 6, Val Loss: 15101.162149234693, RMSE Loss: 61.44339295081834\n",
            "Epoch 6, test Loss: 11230.185566023285, RMSE Loss: 52.9862849377631\n"
          ]
        },
        {
          "output_type": "stream",
          "name": "stderr",
          "text": [
            "236it [00:28,  8.39it/s]\n"
          ]
        },
        {
          "output_type": "stream",
          "name": "stdout",
          "text": [
            "Epoch 7, Train Loss: 12678.085844395524, RMSE Loss: 56.29850318701982\n",
            "Epoch 7, Val Loss: 15088.126514668367, RMSE Loss: 61.41686762337438\n",
            "Epoch 7, test Loss: 11140.870107613358, RMSE Loss: 52.77516013147984\n"
          ]
        },
        {
          "output_type": "stream",
          "name": "stderr",
          "text": [
            "236it [00:28,  8.29it/s]\n"
          ]
        },
        {
          "output_type": "stream",
          "name": "stdout",
          "text": [
            "Epoch 8, Train Loss: 12487.364137811175, RMSE Loss: 55.87343764663844\n",
            "Epoch 8, Val Loss: 15071.433015784438, RMSE Loss: 61.38288241803336\n",
            "Epoch 8, test Loss: 11056.373573452818, RMSE Loss: 52.57464591762083\n"
          ]
        },
        {
          "output_type": "stream",
          "name": "stderr",
          "text": [
            "236it [00:28,  8.36it/s]\n"
          ]
        },
        {
          "output_type": "stream",
          "name": "stdout",
          "text": [
            "Epoch 9, Train Loss: 12300.854725983183, RMSE Loss: 55.45460919973917\n",
            "Epoch 9, Val Loss: 15011.827397560586, RMSE Loss: 61.261381386564786\n",
            "Epoch 9, test Loss: 10960.93758616728, RMSE Loss: 52.347248223204815\n"
          ]
        },
        {
          "output_type": "stream",
          "name": "stderr",
          "text": [
            "236it [00:28,  8.34it/s]\n"
          ]
        },
        {
          "output_type": "stream",
          "name": "stdout",
          "text": [
            "Epoch 10, Train Loss: 12136.712371308924, RMSE Loss: 55.08337401455389\n",
            "Epoch 10, Val Loss: 15020.343580596302, RMSE Loss: 61.27875565927457\n",
            "Epoch 10, test Loss: 10916.979501761642, RMSE Loss: 52.242175255634315\n"
          ]
        },
        {
          "output_type": "stream",
          "name": "stderr",
          "text": [
            "236it [00:28,  8.27it/s]\n"
          ]
        },
        {
          "output_type": "stream",
          "name": "stdout",
          "text": [
            "Epoch 11, Train Loss: 12007.426412291446, RMSE Loss: 54.78920151884732\n",
            "Epoch 11, Val Loss: 14958.650819116709, RMSE Loss: 61.15278166019251\n",
            "Epoch 11, test Loss: 10855.41077856924, RMSE Loss: 52.094651305506495\n"
          ]
        },
        {
          "output_type": "stream",
          "name": "stderr",
          "text": [
            "236it [00:28,  8.33it/s]\n"
          ]
        },
        {
          "output_type": "stream",
          "name": "stdout",
          "text": [
            "Epoch 12, Train Loss: 11889.778895491261, RMSE Loss: 54.52013136331217\n",
            "Epoch 12, Val Loss: 14588.099489795919, RMSE Loss: 60.39060251768465\n",
            "Epoch 12, test Loss: 10383.362764246323, RMSE Loss: 50.94939343173362\n"
          ]
        },
        {
          "output_type": "stream",
          "name": "stderr",
          "text": [
            "236it [00:28,  8.34it/s]\n"
          ]
        },
        {
          "output_type": "stream",
          "name": "stdout",
          "text": [
            "Epoch 13, Train Loss: 11742.633561473782, RMSE Loss: 54.181716384482\n",
            "Epoch 13, Val Loss: 14536.225595902424, RMSE Loss: 60.28313527824848\n",
            "Epoch 13, test Loss: 10320.401903339462, RMSE Loss: 50.79468944520544\n"
          ]
        },
        {
          "output_type": "stream",
          "name": "stderr",
          "text": [
            "236it [00:28,  8.35it/s]\n"
          ]
        },
        {
          "output_type": "stream",
          "name": "stdout",
          "text": [
            "Epoch 14, Train Loss: 11746.779574119439, RMSE Loss: 54.19128060426197\n",
            "Epoch 14, Val Loss: 14531.18031529018, RMSE Loss: 60.27267273667682\n",
            "Epoch 14, test Loss: 10311.283222273285, RMSE Loss: 50.77224444091792\n",
            "Iteration 2 took 494.86 seconds.\n",
            "  Best validation loss: 14531.1803\n",
            "  Best test loss: 10311.2832\n",
            "Train Losses: [74196.90316306938, 24667.37995729608, 20753.99254750397, 16264.941567631091, 14693.987863314354, 14001.08385816671, 13056.110136387711, 12678.085844395524, 12487.364137811175, 12300.854725983183, 12136.712371308924, 12007.426412291446, 11889.778895491261, 11742.633561473782, 11746.779574119439]\n",
            "Val Losses:   [26556.891382334183, 23054.554528061224, 18493.626355229593, 16765.075374681124, 16623.07912149235, 16206.95424107143, 15101.162149234693, 15088.126514668367, 15071.433015784438, 15011.827397560586, 15020.343580596302, 14958.650819116709, 14588.099489795919, 14536.225595902424, 14531.18031529018]\n",
            "Test Losses:  [26084.57456341912, 21893.774777879902, 16272.186982996323, 13638.901865042892, 12956.553232230392, 12302.981885723038, 11230.185566023285, 11140.870107613358, 11056.373573452818, 10960.93758616728, 10916.979501761642, 10855.41077856924, 10383.362764246323, 10320.401903339462, 10311.283222273285]\n",
            "\n",
            "====== Training iteration 3 ======\n"
          ]
        },
        {
          "output_type": "stream",
          "name": "stderr",
          "text": [
            "Some weights of ViTForImageClassification were not initialized from the model checkpoint at google/vit-base-patch16-224 and are newly initialized because the shapes did not match:\n",
            "- vit.embeddings.patch_embeddings.projection.weight: found shape torch.Size([768, 3, 16, 16]) in the checkpoint and torch.Size([768, 768, 1, 1]) in the model instantiated\n",
            "- vit.embeddings.position_embeddings: found shape torch.Size([1, 197, 768]) in the checkpoint and torch.Size([1, 33, 768]) in the model instantiated\n",
            "You should probably TRAIN this model on a down-stream task to be able to use it for predictions and inference.\n"
          ]
        },
        {
          "output_type": "stream",
          "name": "stdout",
          "text": [
            "create dataloader...\n",
            "training...\n"
          ]
        },
        {
          "output_type": "stream",
          "name": "stderr",
          "text": [
            "236it [00:28,  8.35it/s]\n"
          ]
        },
        {
          "output_type": "stream",
          "name": "stdout",
          "text": [
            "Epoch 0, Train Loss: 74647.09383275954, RMSE Loss: 136.608101729692\n",
            "Epoch 0, Val Loss: 26838.489078443876, RMSE Loss: 81.91228399703532\n",
            "Epoch 0, test Loss: 26695.536228553923, RMSE Loss: 81.69384344697268\n"
          ]
        },
        {
          "output_type": "stream",
          "name": "stderr",
          "text": [
            "236it [00:28,  8.37it/s]\n"
          ]
        },
        {
          "output_type": "stream",
          "name": "stdout",
          "text": [
            "Epoch 1, Train Loss: 24592.240424721927, RMSE Loss: 78.40956642005159\n",
            "Epoch 1, Val Loss: 22698.458506058672, RMSE Loss: 75.33003800951296\n",
            "Epoch 1, test Loss: 21778.20477175245, RMSE Loss: 73.7872020945239\n"
          ]
        },
        {
          "output_type": "stream",
          "name": "stderr",
          "text": [
            "236it [00:28,  8.32it/s]\n"
          ]
        },
        {
          "output_type": "stream",
          "name": "stdout",
          "text": [
            "Epoch 2, Train Loss: 20053.682211665782, RMSE Loss: 70.80551216477744\n",
            "Epoch 2, Val Loss: 17817.220204878828, RMSE Loss: 66.740580243355\n",
            "Epoch 2, test Loss: 15584.739315257353, RMSE Loss: 62.419426694053655\n"
          ]
        },
        {
          "output_type": "stream",
          "name": "stderr",
          "text": [
            "236it [00:28,  8.36it/s]\n"
          ]
        },
        {
          "output_type": "stream",
          "name": "stdout",
          "text": [
            "Epoch 3, Train Loss: 16049.138328422934, RMSE Loss: 63.34259690055132\n",
            "Epoch 3, Val Loss: 16218.024433992347, RMSE Loss: 63.675003796608344\n",
            "Epoch 3, test Loss: 13348.47087545956, RMSE Loss: 57.7677913621846\n"
          ]
        },
        {
          "output_type": "stream",
          "name": "stderr",
          "text": [
            "236it [00:28,  8.34it/s]\n"
          ]
        },
        {
          "output_type": "stream",
          "name": "stdout",
          "text": [
            "Epoch 4, Train Loss: 14682.224179025423, RMSE Loss: 60.58511405251587\n",
            "Epoch 4, Val Loss: 16511.499322385203, RMSE Loss: 64.24853952111519\n",
            "Epoch 4, test Loss: 13038.041053921568, RMSE Loss: 57.0921208528847\n"
          ]
        },
        {
          "output_type": "stream",
          "name": "stderr",
          "text": [
            "236it [00:28,  8.35it/s]\n"
          ]
        },
        {
          "output_type": "stream",
          "name": "stdout",
          "text": [
            "Epoch 5, Train Loss: 14079.702845686574, RMSE Loss: 59.328961826595645\n",
            "Epoch 5, Val Loss: 16477.87591677296, RMSE Loss: 64.18308951112621\n",
            "Epoch 5, test Loss: 13205.21231617647, RMSE Loss: 57.45696719323182\n"
          ]
        },
        {
          "output_type": "stream",
          "name": "stderr",
          "text": [
            "236it [00:28,  8.35it/s]\n"
          ]
        },
        {
          "output_type": "stream",
          "name": "stdout",
          "text": [
            "Epoch 6, Train Loss: 13035.776598914195, RMSE Loss: 57.08716274022163\n",
            "Epoch 6, Val Loss: 15175.26185825893, RMSE Loss: 61.59395639642523\n",
            "Epoch 6, test Loss: 11600.726639093138, RMSE Loss: 53.85333471358375\n"
          ]
        },
        {
          "output_type": "stream",
          "name": "stderr",
          "text": [
            "236it [00:28,  8.38it/s]\n"
          ]
        },
        {
          "output_type": "stream",
          "name": "stdout",
          "text": [
            "Epoch 7, Train Loss: 12648.921115681276, RMSE Loss: 56.233711231967604\n",
            "Epoch 7, Val Loss: 15102.625119579081, RMSE Loss: 61.44636913516347\n",
            "Epoch 7, test Loss: 11427.914253982843, RMSE Loss: 53.45071153404518\n"
          ]
        },
        {
          "output_type": "stream",
          "name": "stderr",
          "text": [
            "236it [00:28,  8.38it/s]\n"
          ]
        },
        {
          "output_type": "stream",
          "name": "stdout",
          "text": [
            "Epoch 8, Train Loss: 12450.567546262579, RMSE Loss: 55.79105561436927\n",
            "Epoch 8, Val Loss: 15108.76048309949, RMSE Loss: 61.45884900301073\n",
            "Epoch 8, test Loss: 11377.597598805147, RMSE Loss: 53.33291103719435\n"
          ]
        },
        {
          "output_type": "stream",
          "name": "stderr",
          "text": [
            "236it [00:28,  8.39it/s]\n"
          ]
        },
        {
          "output_type": "stream",
          "name": "stdout",
          "text": [
            "Epoch 9, Train Loss: 12283.61900200278, RMSE Loss: 55.41574460837547\n",
            "Epoch 9, Val Loss: 15114.157007334185, RMSE Loss: 61.469823912498285\n",
            "Epoch 9, test Loss: 11328.402362898285, RMSE Loss: 53.21748388194026\n"
          ]
        },
        {
          "output_type": "stream",
          "name": "stderr",
          "text": [
            "236it [00:28,  8.30it/s]\n"
          ]
        },
        {
          "output_type": "stream",
          "name": "stdout",
          "text": [
            "Epoch 10, Train Loss: 12173.882822844942, RMSE Loss: 55.1676599622572\n",
            "Epoch 10, Val Loss: 15153.808832908164, RMSE Loss: 61.550403802306946\n",
            "Epoch 10, test Loss: 11299.096449908087, RMSE Loss: 53.14860405012555\n"
          ]
        },
        {
          "output_type": "stream",
          "name": "stderr",
          "text": [
            "236it [00:28,  8.38it/s]\n"
          ]
        },
        {
          "output_type": "stream",
          "name": "stdout",
          "text": [
            "Epoch 11, Train Loss: 11967.670219809323, RMSE Loss: 54.69842369714442\n",
            "Epoch 11, Val Loss: 15130.191466039541, RMSE Loss: 61.50242163126494\n",
            "Epoch 11, test Loss: 11208.27880859375, RMSE Loss: 52.934579455668086\n"
          ]
        },
        {
          "output_type": "stream",
          "name": "stderr",
          "text": [
            "236it [00:28,  8.38it/s]\n"
          ]
        },
        {
          "output_type": "stream",
          "name": "stdout",
          "text": [
            "Epoch 12, Train Loss: 11867.994533732786, RMSE Loss: 54.47016278140902\n",
            "Epoch 12, Val Loss: 14646.419314014669, RMSE Loss: 60.51119589384817\n",
            "Epoch 12, test Loss: 10758.883597579657, RMSE Loss: 51.86251921566204\n"
          ]
        },
        {
          "output_type": "stream",
          "name": "stderr",
          "text": [
            "236it [00:28,  8.38it/s]\n"
          ]
        },
        {
          "output_type": "stream",
          "name": "stdout",
          "text": [
            "Epoch 13, Train Loss: 11658.119461318194, RMSE Loss: 53.98638592580122\n",
            "Epoch 13, Val Loss: 14595.537278778698, RMSE Loss: 60.405995726373675\n",
            "Epoch 13, test Loss: 10703.427207797182, RMSE Loss: 51.72868451786973\n"
          ]
        },
        {
          "output_type": "stream",
          "name": "stderr",
          "text": [
            "236it [00:28,  8.36it/s]\n"
          ]
        },
        {
          "output_type": "stream",
          "name": "stdout",
          "text": [
            "Epoch 14, Train Loss: 11677.621621342028, RMSE Loss: 54.03152233035367\n",
            "Epoch 14, Val Loss: 14581.362224968112, RMSE Loss: 60.376655722572345\n",
            "Epoch 14, test Loss: 10691.208831188726, RMSE Loss: 51.69915093884213\n",
            "Iteration 3 took 493.78 seconds.\n",
            "  Best validation loss: 14581.3622\n",
            "  Best test loss: 10691.2088\n",
            "Train Losses: [74647.09383275954, 24592.240424721927, 20053.682211665782, 16049.138328422934, 14682.224179025423, 14079.702845686574, 13035.776598914195, 12648.921115681276, 12450.567546262579, 12283.61900200278, 12173.882822844942, 11967.670219809323, 11867.994533732786, 11658.119461318194, 11677.621621342028]\n",
            "Val Losses:   [26838.489078443876, 22698.458506058672, 17817.220204878828, 16218.024433992347, 16511.499322385203, 16477.87591677296, 15175.26185825893, 15102.625119579081, 15108.76048309949, 15114.157007334185, 15153.808832908164, 15130.191466039541, 14646.419314014669, 14595.537278778698, 14581.362224968112]\n",
            "Test Losses:  [26695.536228553923, 21778.20477175245, 15584.739315257353, 13348.47087545956, 13038.041053921568, 13205.21231617647, 11600.726639093138, 11427.914253982843, 11377.597598805147, 11328.402362898285, 11299.096449908087, 11208.27880859375, 10758.883597579657, 10703.427207797182, 10691.208831188726]\n",
            "\n",
            "====== Training iteration 4 ======\n"
          ]
        },
        {
          "output_type": "stream",
          "name": "stderr",
          "text": [
            "Some weights of ViTForImageClassification were not initialized from the model checkpoint at google/vit-base-patch16-224 and are newly initialized because the shapes did not match:\n",
            "- vit.embeddings.patch_embeddings.projection.weight: found shape torch.Size([768, 3, 16, 16]) in the checkpoint and torch.Size([768, 768, 1, 1]) in the model instantiated\n",
            "- vit.embeddings.position_embeddings: found shape torch.Size([1, 197, 768]) in the checkpoint and torch.Size([1, 33, 768]) in the model instantiated\n",
            "You should probably TRAIN this model on a down-stream task to be able to use it for predictions and inference.\n"
          ]
        },
        {
          "output_type": "stream",
          "name": "stdout",
          "text": [
            "create dataloader...\n",
            "training...\n"
          ]
        },
        {
          "output_type": "stream",
          "name": "stderr",
          "text": [
            "236it [00:28,  8.35it/s]\n"
          ]
        },
        {
          "output_type": "stream",
          "name": "stdout",
          "text": [
            "Epoch 0, Train Loss: 75233.90673828125, RMSE Loss: 137.1439998124975\n",
            "Epoch 0, Val Loss: 27425.89596619898, RMSE Loss: 82.80382836288274\n",
            "Epoch 0, test Loss: 27187.906403186276, RMSE Loss: 82.44377842382389\n"
          ]
        },
        {
          "output_type": "stream",
          "name": "stderr",
          "text": [
            "236it [00:28,  8.37it/s]\n"
          ]
        },
        {
          "output_type": "stream",
          "name": "stdout",
          "text": [
            "Epoch 1, Train Loss: 24748.977133540782, RMSE Loss: 78.65903815446255\n",
            "Epoch 1, Val Loss: 22770.893933354593, RMSE Loss: 75.45013905446861\n",
            "Epoch 1, test Loss: 21978.611787683825, RMSE Loss: 74.12592628035725\n"
          ]
        },
        {
          "output_type": "stream",
          "name": "stderr",
          "text": [
            "236it [00:28,  8.36it/s]\n"
          ]
        },
        {
          "output_type": "stream",
          "name": "stdout",
          "text": [
            "Epoch 2, Train Loss: 21147.762881521452, RMSE Loss: 72.71135207366429\n",
            "Epoch 2, Val Loss: 18422.389508928572, RMSE Loss: 67.86455169845405\n",
            "Epoch 2, test Loss: 16669.471105238972, RMSE Loss: 64.5551529802985\n"
          ]
        },
        {
          "output_type": "stream",
          "name": "stderr",
          "text": [
            "236it [00:28,  8.39it/s]\n"
          ]
        },
        {
          "output_type": "stream",
          "name": "stdout",
          "text": [
            "Epoch 3, Train Loss: 16633.35032110699, RMSE Loss: 64.48517333679695\n",
            "Epoch 3, Val Loss: 16707.425223214286, RMSE Loss: 64.62860284582649\n",
            "Epoch 3, test Loss: 14339.210860906862, RMSE Loss: 59.873222021423864\n"
          ]
        },
        {
          "output_type": "stream",
          "name": "stderr",
          "text": [
            "236it [00:28,  8.39it/s]\n"
          ]
        },
        {
          "output_type": "stream",
          "name": "stdout",
          "text": [
            "Epoch 4, Train Loss: 14927.587207858845, RMSE Loss: 61.08925275336662\n",
            "Epoch 4, Val Loss: 16059.88450653699, RMSE Loss: 63.36379981215021\n",
            "Epoch 4, test Loss: 13213.662760416666, RMSE Loss: 57.47534854269408\n"
          ]
        },
        {
          "output_type": "stream",
          "name": "stderr",
          "text": [
            "236it [00:28,  8.39it/s]\n"
          ]
        },
        {
          "output_type": "stream",
          "name": "stdout",
          "text": [
            "Epoch 5, Train Loss: 14258.875035172801, RMSE Loss: 59.7052657543135\n",
            "Epoch 5, Val Loss: 17296.268315529338, RMSE Loss: 65.75763893938357\n",
            "Epoch 5, test Loss: 14398.440889246323, RMSE Loss: 59.99675176467123\n"
          ]
        },
        {
          "output_type": "stream",
          "name": "stderr",
          "text": [
            "236it [00:28,  8.36it/s]\n"
          ]
        },
        {
          "output_type": "stream",
          "name": "stdout",
          "text": [
            "Epoch 6, Train Loss: 13506.064684851695, RMSE Loss: 58.10779785203466\n",
            "Epoch 6, Val Loss: 15411.146006058674, RMSE Loss: 62.07081843760938\n",
            "Epoch 6, test Loss: 11891.942976409313, RMSE Loss: 54.52509279315651\n"
          ]
        },
        {
          "output_type": "stream",
          "name": "stderr",
          "text": [
            "236it [00:28,  8.36it/s]\n"
          ]
        },
        {
          "output_type": "stream",
          "name": "stdout",
          "text": [
            "Epoch 7, Train Loss: 13079.149378889699, RMSE Loss: 57.18205439403541\n",
            "Epoch 7, Val Loss: 15358.21607940051, RMSE Loss: 61.964134947969114\n",
            "Epoch 7, test Loss: 11698.070274203432, RMSE Loss: 54.07880886771507\n"
          ]
        },
        {
          "output_type": "stream",
          "name": "stderr",
          "text": [
            "236it [00:28,  8.33it/s]\n"
          ]
        },
        {
          "output_type": "stream",
          "name": "stdout",
          "text": [
            "Epoch 8, Train Loss: 12948.517276052702, RMSE Loss: 56.895775932956354\n",
            "Epoch 8, Val Loss: 15390.956592793367, RMSE Loss: 62.03014709154204\n",
            "Epoch 8, test Loss: 11652.234279258579, RMSE Loss: 53.97275766360882\n"
          ]
        },
        {
          "output_type": "stream",
          "name": "stderr",
          "text": [
            "236it [00:28,  8.36it/s]\n"
          ]
        },
        {
          "output_type": "stream",
          "name": "stdout",
          "text": [
            "Epoch 9, Train Loss: 12752.574423579847, RMSE Loss: 56.463648535097\n",
            "Epoch 9, Val Loss: 15326.96579041773, RMSE Loss: 61.90106176475838\n",
            "Epoch 9, test Loss: 11545.090829886642, RMSE Loss: 53.72404217360846\n"
          ]
        },
        {
          "output_type": "stream",
          "name": "stderr",
          "text": [
            "236it [00:28,  8.30it/s]\n"
          ]
        },
        {
          "output_type": "stream",
          "name": "stdout",
          "text": [
            "Epoch 10, Train Loss: 12648.336825096001, RMSE Loss: 56.232412417341656\n",
            "Epoch 10, Val Loss: 15249.473014987245, RMSE Loss: 61.74437831695134\n",
            "Epoch 10, test Loss: 11432.299996170343, RMSE Loss: 53.460967060488024\n"
          ]
        },
        {
          "output_type": "stream",
          "name": "stderr",
          "text": [
            "236it [00:28,  8.35it/s]\n"
          ]
        },
        {
          "output_type": "stream",
          "name": "stdout",
          "text": [
            "Epoch 11, Train Loss: 12476.405246540651, RMSE Loss: 55.848915044387056\n",
            "Epoch 11, Val Loss: 15291.212870695153, RMSE Loss: 61.828821901066405\n",
            "Epoch 11, test Loss: 11435.355420879288, RMSE Loss: 53.468110638209595\n"
          ]
        },
        {
          "output_type": "stream",
          "name": "stderr",
          "text": [
            "236it [00:28,  8.33it/s]\n"
          ]
        },
        {
          "output_type": "stream",
          "name": "stdout",
          "text": [
            "Epoch 12, Train Loss: 12483.059284792109, RMSE Loss: 55.86380600351203\n",
            "Epoch 12, Val Loss: 14698.867346938776, RMSE Loss: 60.61944272867158\n",
            "Epoch 12, test Loss: 10766.297353707108, RMSE Loss: 51.88038491016405\n"
          ]
        },
        {
          "output_type": "stream",
          "name": "stderr",
          "text": [
            "236it [00:28,  8.35it/s]\n"
          ]
        },
        {
          "output_type": "stream",
          "name": "stdout",
          "text": [
            "Epoch 13, Train Loss: 12313.167639780853, RMSE Loss: 55.482356744691494\n",
            "Epoch 13, Val Loss: 14611.516780931122, RMSE Loss: 60.43905356003501\n",
            "Epoch 13, test Loss: 10705.779622395834, RMSE Loss: 51.734368707842165\n"
          ]
        },
        {
          "output_type": "stream",
          "name": "stderr",
          "text": [
            "236it [00:28,  8.39it/s]\n"
          ]
        },
        {
          "output_type": "stream",
          "name": "stdout",
          "text": [
            "Epoch 14, Train Loss: 12279.34865764036, RMSE Loss: 55.40611125507808\n",
            "Epoch 14, Val Loss: 14589.575145487883, RMSE Loss: 60.393656838876474\n",
            "Epoch 14, test Loss: 10695.812567018995, RMSE Loss: 51.71028081295584\n",
            "Iteration 4 took 493.97 seconds.\n",
            "  Best validation loss: 14589.5751\n",
            "  Best test loss: 10695.8126\n",
            "Train Losses: [75233.90673828125, 24748.977133540782, 21147.762881521452, 16633.35032110699, 14927.587207858845, 14258.875035172801, 13506.064684851695, 13079.149378889699, 12948.517276052702, 12752.574423579847, 12648.336825096001, 12476.405246540651, 12483.059284792109, 12313.167639780853, 12279.34865764036]\n",
            "Val Losses:   [27425.89596619898, 22770.893933354593, 18422.389508928572, 16707.425223214286, 16059.88450653699, 17296.268315529338, 15411.146006058674, 15358.21607940051, 15390.956592793367, 15326.96579041773, 15249.473014987245, 15291.212870695153, 14698.867346938776, 14611.516780931122, 14589.575145487883]\n",
            "Test Losses:  [27187.906403186276, 21978.611787683825, 16669.471105238972, 14339.210860906862, 13213.662760416666, 14398.440889246323, 11891.942976409313, 11698.070274203432, 11652.234279258579, 11545.090829886642, 11432.299996170343, 11435.355420879288, 10766.297353707108, 10705.779622395834, 10695.812567018995]\n",
            "\n",
            "====== Training iteration 5 ======\n"
          ]
        },
        {
          "output_type": "stream",
          "name": "stderr",
          "text": [
            "Some weights of ViTForImageClassification were not initialized from the model checkpoint at google/vit-base-patch16-224 and are newly initialized because the shapes did not match:\n",
            "- vit.embeddings.patch_embeddings.projection.weight: found shape torch.Size([768, 3, 16, 16]) in the checkpoint and torch.Size([768, 768, 1, 1]) in the model instantiated\n",
            "- vit.embeddings.position_embeddings: found shape torch.Size([1, 197, 768]) in the checkpoint and torch.Size([1, 33, 768]) in the model instantiated\n",
            "You should probably TRAIN this model on a down-stream task to be able to use it for predictions and inference.\n"
          ]
        },
        {
          "output_type": "stream",
          "name": "stdout",
          "text": [
            "create dataloader...\n",
            "training...\n"
          ]
        },
        {
          "output_type": "stream",
          "name": "stderr",
          "text": [
            "236it [00:28,  8.39it/s]\n"
          ]
        },
        {
          "output_type": "stream",
          "name": "stdout",
          "text": [
            "Epoch 0, Train Loss: 74299.87572828389, RMSE Loss: 136.2900177271651\n",
            "Epoch 0, Val Loss: 27439.02104591837, RMSE Loss: 82.82363950877547\n",
            "Epoch 0, test Loss: 27170.69366574755, RMSE Loss: 82.41767660178785\n"
          ]
        },
        {
          "output_type": "stream",
          "name": "stderr",
          "text": [
            "236it [00:28,  8.39it/s]\n"
          ]
        },
        {
          "output_type": "stream",
          "name": "stdout",
          "text": [
            "Epoch 1, Train Loss: 24735.807344081037, RMSE Loss: 78.63810676777678\n",
            "Epoch 1, Val Loss: 23374.015784438776, RMSE Loss: 76.44281487562905\n",
            "Epoch 1, test Loss: 22500.117647058825, RMSE Loss: 75.00019607817507\n"
          ]
        },
        {
          "output_type": "stream",
          "name": "stderr",
          "text": [
            "236it [00:28,  8.40it/s]\n"
          ]
        },
        {
          "output_type": "stream",
          "name": "stdout",
          "text": [
            "Epoch 2, Train Loss: 21291.824562202066, RMSE Loss: 72.95859195838771\n",
            "Epoch 2, Val Loss: 19192.85307716837, RMSE Loss: 69.26913648438308\n",
            "Epoch 2, test Loss: 17447.072208180147, RMSE Loss: 66.04368290794386\n"
          ]
        },
        {
          "output_type": "stream",
          "name": "stderr",
          "text": [
            "236it [00:28,  8.36it/s]\n"
          ]
        },
        {
          "output_type": "stream",
          "name": "stdout",
          "text": [
            "Epoch 3, Train Loss: 16579.16887082892, RMSE Loss: 64.38006071531177\n",
            "Epoch 3, Val Loss: 16426.908601721938, RMSE Loss: 64.08375106398255\n",
            "Epoch 3, test Loss: 13242.642041973038, RMSE Loss: 57.53833948328071\n"
          ]
        },
        {
          "output_type": "stream",
          "name": "stderr",
          "text": [
            "236it [00:28,  8.39it/s]\n"
          ]
        },
        {
          "output_type": "stream",
          "name": "stdout",
          "text": [
            "Epoch 4, Train Loss: 14980.068251787607, RMSE Loss: 61.19654453436813\n",
            "Epoch 4, Val Loss: 15909.294304049745, RMSE Loss: 63.06602552890452\n",
            "Epoch 4, test Loss: 12533.471354166666, RMSE Loss: 55.97649362492855\n"
          ]
        },
        {
          "output_type": "stream",
          "name": "stderr",
          "text": [
            "236it [00:28,  8.38it/s]\n"
          ]
        },
        {
          "output_type": "stream",
          "name": "stdout",
          "text": [
            "Epoch 5, Train Loss: 14267.109422586733, RMSE Loss: 59.72250292516786\n",
            "Epoch 5, Val Loss: 15896.78822544643, RMSE Loss: 63.041232985734084\n",
            "Epoch 5, test Loss: 12148.704752604166, RMSE Loss: 55.11058145357425\n"
          ]
        },
        {
          "output_type": "stream",
          "name": "stderr",
          "text": [
            "236it [00:28,  8.38it/s]\n"
          ]
        },
        {
          "output_type": "stream",
          "name": "stdout",
          "text": [
            "Epoch 6, Train Loss: 13240.037181789592, RMSE Loss: 57.53268023869041\n",
            "Epoch 6, Val Loss: 15364.033362563776, RMSE Loss: 61.97586901884429\n",
            "Epoch 6, test Loss: 11511.491680070465, RMSE Loss: 53.6458099017772\n"
          ]
        },
        {
          "output_type": "stream",
          "name": "stderr",
          "text": [
            "236it [00:28,  8.37it/s]\n"
          ]
        },
        {
          "output_type": "stream",
          "name": "stdout",
          "text": [
            "Epoch 7, Train Loss: 13019.360055697167, RMSE Loss: 57.051205192566194\n",
            "Epoch 7, Val Loss: 15305.673628826531, RMSE Loss: 61.858050463998886\n",
            "Epoch 7, test Loss: 11389.771063112745, RMSE Loss: 53.361435192263954\n"
          ]
        },
        {
          "output_type": "stream",
          "name": "stderr",
          "text": [
            "236it [00:28,  8.42it/s]\n"
          ]
        },
        {
          "output_type": "stream",
          "name": "stdout",
          "text": [
            "Epoch 8, Train Loss: 12852.722921080509, RMSE Loss: 56.68492507069342\n",
            "Epoch 8, Val Loss: 15314.262356505102, RMSE Loss: 61.87540374919808\n",
            "Epoch 8, test Loss: 11309.314931832108, RMSE Loss: 53.17263142781282\n"
          ]
        },
        {
          "output_type": "stream",
          "name": "stderr",
          "text": [
            "236it [00:28,  8.40it/s]\n"
          ]
        },
        {
          "output_type": "stream",
          "name": "stdout",
          "text": [
            "Epoch 9, Train Loss: 12674.895410570047, RMSE Loss: 56.291418996526566\n",
            "Epoch 9, Val Loss: 15313.273078762755, RMSE Loss: 61.873405189068826\n",
            "Epoch 9, test Loss: 11248.246380974264, RMSE Loss: 53.0288751082235\n"
          ]
        },
        {
          "output_type": "stream",
          "name": "stderr",
          "text": [
            "236it [00:28,  8.22it/s]\n"
          ]
        },
        {
          "output_type": "stream",
          "name": "stdout",
          "text": [
            "Epoch 10, Train Loss: 12542.195101463189, RMSE Loss: 55.99597106369169\n",
            "Epoch 10, Val Loss: 15293.435247927297, RMSE Loss: 61.833314741988595\n",
            "Epoch 10, test Loss: 11211.836722579657, RMSE Loss: 52.94298046620453\n"
          ]
        },
        {
          "output_type": "stream",
          "name": "stderr",
          "text": [
            "236it [00:28,  8.39it/s]\n"
          ]
        },
        {
          "output_type": "stream",
          "name": "stdout",
          "text": [
            "Epoch 11, Train Loss: 12389.887674622616, RMSE Loss: 55.65493615714292\n",
            "Epoch 11, Val Loss: 15261.204480229591, RMSE Loss: 61.76812381849879\n",
            "Epoch 11, test Loss: 11111.791829427084, RMSE Loss: 52.706242109988935\n"
          ]
        },
        {
          "output_type": "stream",
          "name": "stderr",
          "text": [
            "236it [00:28,  8.24it/s]\n"
          ]
        },
        {
          "output_type": "stream",
          "name": "stdout",
          "text": [
            "Epoch 12, Train Loss: 12394.310594461733, RMSE Loss: 55.664869070316094\n",
            "Epoch 12, Val Loss: 14743.498046875, RMSE Loss: 60.711403473472345\n",
            "Epoch 12, test Loss: 10616.629863664215, RMSE Loss: 51.518515758085016\n"
          ]
        },
        {
          "output_type": "stream",
          "name": "stderr",
          "text": [
            "236it [00:28,  8.39it/s]\n"
          ]
        },
        {
          "output_type": "stream",
          "name": "stdout",
          "text": [
            "Epoch 13, Train Loss: 12240.743534411415, RMSE Loss: 55.318946877203416\n",
            "Epoch 13, Val Loss: 14668.658860809948, RMSE Loss: 60.557119442741715\n",
            "Epoch 13, test Loss: 10569.437490425858, RMSE Loss: 51.40388480072751\n"
          ]
        },
        {
          "output_type": "stream",
          "name": "stderr",
          "text": [
            "236it [00:28,  8.38it/s]\n"
          ]
        },
        {
          "output_type": "stream",
          "name": "stdout",
          "text": [
            "Epoch 14, Train Loss: 12161.386683577199, RMSE Loss: 55.139338687495155\n",
            "Epoch 14, Val Loss: 14650.823909837372, RMSE Loss: 60.520293930708426\n",
            "Epoch 14, test Loss: 10557.020814185049, RMSE Loss: 51.373682012741334\n",
            "Iteration 5 took 493.29 seconds.\n",
            "  Best validation loss: 14650.8239\n",
            "  Best test loss: 10557.0208\n",
            "Train Losses: [74299.87572828389, 24735.807344081037, 21291.824562202066, 16579.16887082892, 14980.068251787607, 14267.109422586733, 13240.037181789592, 13019.360055697167, 12852.722921080509, 12674.895410570047, 12542.195101463189, 12389.887674622616, 12394.310594461733, 12240.743534411415, 12161.386683577199]\n",
            "Val Losses:   [27439.02104591837, 23374.015784438776, 19192.85307716837, 16426.908601721938, 15909.294304049745, 15896.78822544643, 15364.033362563776, 15305.673628826531, 15314.262356505102, 15313.273078762755, 15293.435247927297, 15261.204480229591, 14743.498046875, 14668.658860809948, 14650.823909837372]\n",
            "Test Losses:  [27170.69366574755, 22500.117647058825, 17447.072208180147, 13242.642041973038, 12533.471354166666, 12148.704752604166, 11511.491680070465, 11389.771063112745, 11309.314931832108, 11248.246380974264, 11211.836722579657, 11111.791829427084, 10616.629863664215, 10569.437490425858, 10557.020814185049]\n",
            "\n",
            "Total training time for 5 runs: 2471.03 seconds.\n",
            "\n",
            "====== Summary of best losses per run ======\n",
            "Run 1: Val Loss = 14710.6638, Test Loss = 10488.8120\n",
            "Run 2: Val Loss = 14531.1803, Test Loss = 10311.2832\n",
            "Run 3: Val Loss = 14581.3622, Test Loss = 10691.2088\n",
            "Run 4: Val Loss = 14589.5751, Test Loss = 10695.8126\n",
            "Run 5: Val Loss = 14650.8239, Test Loss = 10557.0208\n",
            "\n",
            "Average best validation loss: 14612.7211\n",
            "Standard deviation of validation loss: 61.9881\n"
          ]
        }
      ]
    },
    {
      "cell_type": "code",
      "source": [
        "import matplotlib.pyplot as plt\n",
        "\n",
        "# Create 5 subplots (one for each run)\n",
        "fig, axes = plt.subplots(nrows=3, ncols=2, figsize=(14, 12))\n",
        "axes = axes.flatten()  # Flatten to easily iterate\n",
        "num_runs = len(all_loss_data)\n",
        "\n",
        "for i, loss_data in enumerate(all_loss_data):\n",
        "    ax = axes[i]\n",
        "    ax.plot(loss_data[\"train_losses\"], label=\"Train Loss\", linestyle='-')\n",
        "    ax.plot(loss_data[\"val_losses\"], label=\"Val Loss\", linestyle='--')\n",
        "    ax.plot(loss_data[\"test_losses\"], label=\"Test Loss\", linestyle=':')\n",
        "    ax.set_title(f\"Run {i+1} Losses\")\n",
        "    ax.set_xlabel(\"Epoch\")\n",
        "    ax.set_ylabel(\"Loss\")\n",
        "    ax.legend()\n",
        "    ax.grid(True)\n",
        "\n",
        "# Hide any unused subplots if less than 6\n",
        "for j in range(num_runs, len(axes)):\n",
        "    fig.delaxes(axes[j])\n",
        "\n",
        "plt.tight_layout()\n",
        "plt.show()\n"
      ],
      "metadata": {
        "colab": {
          "base_uri": "https://localhost:8080/",
          "height": 1000
        },
        "id": "-026D8f6dotu",
        "outputId": "85a069cd-9155-4af8-f6c7-f4de910f38c0"
      },
      "execution_count": null,
      "outputs": [
        {
          "output_type": "display_data",
          "data": {
            "text/plain": [
              "<Figure size 1400x1200 with 5 Axes>"
            ],
            "image/png": "[encoded data removed]"
          },
          "metadata": {}
        }
      ]
    },
    {
      "cell_type": "code",
      "source": [
        "# Save the final model\n",
        "# torch.save(model.module.state_dict() if isinstance(model, nn.DataParallel) else model.state_dict(), f\"/content/drive/MyDrive/trained_models/{model_name}.pt\")\n",
        "# print(\"Model saved as EEGViT_TCN_Modified_Kernal_Dropout.pt\")"
      ],
      "metadata": {
        "id": "3hfsqrMyfVAE",
        "colab": {
          "base_uri": "https://localhost:8080/"
        },
        "outputId": "420e5986-7929-439a-bbb1-1ed58519e60c"
      },
      "execution_count": null,
      "outputs": [
        {
          "output_type": "stream",
          "name": "stdout",
          "text": [
            "Model saved as EEGViT_TCN_Modified_Kernal_Dropout.pt\n"
          ]
        }
      ]
    }
  ]
}