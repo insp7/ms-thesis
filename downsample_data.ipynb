{
 "cells": [
  {
   "cell_type": "code",
   "execution_count": null,
   "id": "a6476b0c",
   "metadata": {},
   "outputs": [],
   "source": [
    "import numpy as np\n",
    "\n",
    "# Load the original .npz file\n",
    "data = np.load('data/Position_task_with_dots_synchronised_min.npz')\n",
    "\n",
    "# New dictionary for sampled data\n",
    "sampled_data = {}\n",
    "\n",
    "# Retain the first 1% from each array\n",
    "for key in data.files:\n",
    "    array = data[key]\n",
    "    \n",
    "    # Compute how many samples to keep\n",
    "    num_samples = array.shape[0]\n",
    "    sample_size = max(1, int(num_samples * 0.07))  # Scale down to 7%\n",
    "    \n",
    "    # Slice the first 1%\n",
    "    sampled_data[key] = array[:sample_size]\n",
    "\n",
    "# Save to new .npz file\n",
    "np.savez('data/Position_task_with_dots_synchronised_min_7_perc.npz', **sampled_data)"
   ]
  },
  {
   "cell_type": "code",
   "execution_count": 3,
   "id": "7d503663",
   "metadata": {},
   "outputs": [],
   "source": [
    "import numpy as np\n",
    "\n",
    "# Load the original .npz file\n",
    "data = np.load('data/Direction_task_with_dots_synchronised_min.npz')\n",
    "\n",
    "# New dictionary for sampled data\n",
    "sampled_data = {}\n",
    "\n",
    "# Retain the first 1% from each array\n",
    "for key in data.files:\n",
    "    array = data[key]\n",
    "    \n",
    "    # Compute how many samples to keep\n",
    "    num_samples = array.shape[0]\n",
    "    sample_size = max(1, int(num_samples * 0.05))  # Scale down to 15%\n",
    "    \n",
    "    # Slice the first 1%\n",
    "    sampled_data[key] = array[:sample_size]\n",
    "\n",
    "# Save to new .npz file\n",
    "np.savez('data/Direction_task_with_dots_synchronised_min_5_perc.npz', **sampled_data)"
   ]
  },
  {
   "cell_type": "code",
   "execution_count": null,
   "id": "ae02349d",
   "metadata": {},
   "outputs": [],
   "source": [
    "import numpy as np\n",
    "\n",
    "# Load the original .npz file\n",
    "data = np.load('data/LR_task_with_antisaccade_synchronised_min.npz')\n",
    "\n",
    "# New dictionary for sampled data\n",
    "sampled_data = {}\n",
    "\n",
    "# Retain the first 1% from each array\n",
    "for key in data.files:\n",
    "    array = data[key]\n",
    "    \n",
    "    # Compute how many samples to keep\n",
    "    num_samples = array.shape[0]\n",
    "    sample_size = max(1, int(num_samples * 0.01))  # Scale down to 1%\n",
    "    \n",
    "    # Slice the first 1%\n",
    "    sampled_data[key] = array[:sample_size]\n",
    "\n",
    "# Save to new .npz file\n",
    "np.savez('data/LR_task_with_antisaccade_synchronised_min_1_perc.npz', **sampled_data)"
   ]
  },
  {
   "cell_type": "code",
   "execution_count": null,
   "id": "fce63b7a",
   "metadata": {},
   "outputs": [],
   "source": []
  }
 ],
 "metadata": {
  "kernelspec": {
   "display_name": "Python 3 (ipykernel)",
   "language": "python",
   "name": "python3"
  },
  "language_info": {
   "codemirror_mode": {
    "name": "ipython",
    "version": 3
   },
   "file_extension": ".py",
   "mimetype": "text/x-python",
   "name": "python",
   "nbconvert_exporter": "python",
   "pygments_lexer": "ipython3",
   "version": "3.11.5"
  }
 },
 "nbformat": 4,
 "nbformat_minor": 5
}
