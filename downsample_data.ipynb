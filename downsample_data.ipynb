{
 "cells": [
  {
   "cell_type": "code",
   "execution_count": 12,
   "id": "a6476b0c",
   "metadata": {},
   "outputs": [],
   "source": [
    "import numpy as np\n",
    "\n",
    "# Load the original .npz file\n",
    "data = np.load('data/Position_task_with_dots_synchronised_min.npz')\n",
    "\n",
    "# New dictionary for sampled data\n",
    "sampled_data = {}\n",
    "\n",
    "# Retain the first 1% from each array\n",
    "for key in data.files:\n",
    "    array = data[key]\n",
    "    \n",
    "    # Compute how many samples to keep\n",
    "    num_samples = array.shape[0]\n",
    "    sample_size = max(1, int(num_samples * 0.05))  # first ~1073 samples\n",
    "    \n",
    "    # Slice the first 1%\n",
    "    sampled_data[key] = array[:sample_size]\n",
    "\n",
    "# Save to new .npz file\n",
    "np.savez('data/Position_task_with_dots_synchronised_min_1_perc.npz', **sampled_data)"
   ]
  },
  {
   "cell_type": "code",
   "execution_count": 13,
   "id": "7d503663",
   "metadata": {},
   "outputs": [],
   "source": [
    "import numpy as np\n",
    "\n",
    "# Load the original .npz file\n",
    "data = np.load('data/Direction_task_with_dots_synchronised_min.npz')\n",
    "\n",
    "# New dictionary for sampled data\n",
    "sampled_data = {}\n",
    "\n",
    "# Retain the first 1% from each array\n",
    "for key in data.files:\n",
    "    array = data[key]\n",
    "    \n",
    "    # Compute how many samples to keep\n",
    "    num_samples = array.shape[0]\n",
    "    sample_size = max(1, int(num_samples * 0.05))  # first ~1073 samples\n",
    "    \n",
    "    # Slice the first 1%\n",
    "    sampled_data[key] = array[:sample_size]\n",
    "\n",
    "# Save to new .npz file\n",
    "np.savez('data/Direction_task_with_dots_synchronised_min_1_perc.npz', **sampled_data)"
   ]
  }
 ],
 "metadata": {
  "kernelspec": {
   "display_name": ".conda",
   "language": "python",
   "name": "python3"
  },
  "language_info": {
   "codemirror_mode": {
    "name": "ipython",
    "version": 3
   },
   "file_extension": ".py",
   "mimetype": "text/x-python",
   "name": "python",
   "nbconvert_exporter": "python",
   "pygments_lexer": "ipython3",
   "version": "3.12.9"
  }
 },
 "nbformat": 4,
 "nbformat_minor": 5
}
